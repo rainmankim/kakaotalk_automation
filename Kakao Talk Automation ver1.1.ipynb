{
 "cells": [
  {
   "cell_type": "markdown",
   "metadata": {},
   "source": [
    "<img align=\"center\" src=\"https://user-images.githubusercontent.com/62319355/105825928-1e9d7e00-5ffb-11eb-991a-097e7aa9130e.jpg\" alt=\"Kakao Team\"  height=\"120\" width=\"450\">\n",
    "\n",
    "\n",
    "# <center> 파이썬으로 카카오톡 PC 자동화하기 </center>\n",
    "***"
   ]
  },
  {
   "cell_type": "code",
   "execution_count": null,
   "metadata": {},
   "outputs": [],
   "source": [
    "import cv2 as cv\n",
    "from difflib import get_close_matches  # 현재는 사용치 않았지만 비스무리한 단어를 찾는데 굉장히 유용합니다. \n",
    "import subprocess \n",
    "import os\n",
    "import time\n",
    "import pyautogui  \n",
    "import pyperclip \n",
    "import datetime\n"
   ]
  },
  {
   "cell_type": "markdown",
   "metadata": {},
   "source": [
    "# Step 1. 카카오톡을 실행하기\n",
    "\n",
    "```python\n",
    "def open_kakao() 는 카카오톡을 실행시키는 function 이며\n",
    "def kill_kakao() 는 카카오톡을 강제 종료시키는 function 입니다.\n",
    "```"
   ]
  },
  {
   "cell_type": "code",
   "execution_count": null,
   "metadata": {},
   "outputs": [],
   "source": [
    "def open_kakao():\n",
    "    try:\n",
    "        path = r\"C:\\Program Files (x86)\\Kakao\\KakaoTalk\\KakaoTalk.exe\"\n",
    "        subprocess.Popen(path)\n",
    "        print('opening Kakao Talk')\n",
    "    except:\n",
    "        print(\"cannot open KakaoTalk\")\n",
    "\n",
    "def kill_kakao():\n",
    "    os.system(\"TASKKILL /F /IM KakaoTalk.exe\")  # this will kill KakaoTalk\n",
    "    \n",
    "def login_kakao():\n",
    "    button_location = pyautogui.locateOnScreen('images/login_password.png', confidence=0.9)\n",
    "    button_location_2 = pyautogui.locateOnScreen('images/login_login.png', confidence=0.9)\n",
    "    if button_location is None and button_location_2 is None:\n",
    "        print(\"패스워드 버튼 찾기 실패 ㅠㅠ\")\n",
    "    elif button_location is not None:\n",
    "        button_point = pyautogui.center(button_location)\n",
    "        pyautogui.click(button_point.x, button_point.y)\n",
    "        pyautogui.write('Rain4232') \n",
    "        pyautogui.press('enter')\n",
    "    elif button_location_2 is not None:\n",
    "        button_point = pyautogui.center(button_location_2)\n",
    "#     pyautogui.moveTo(button_point.x, button_point.y, duration=0)\n",
    "#     pyautogui.move(0, -45, 0.5, pyautogui.easeInQuad)  # Move 45 pixels Up\n",
    "        pyautogui.doubleClick(button_point.x, button_point.y-45)\n",
    "        pyautogui.write('Rain4232')\n",
    "        pyautogui.press('enter')\n",
    "    \n",
    "    "
   ]
  },
  {
   "cell_type": "code",
   "execution_count": null,
   "metadata": {},
   "outputs": [],
   "source": [
    "kill_kakao()\n"
   ]
  },
  {
   "cell_type": "code",
   "execution_count": null,
   "metadata": {},
   "outputs": [],
   "source": [
    "open_kakao()  # 1분 정도 시간이 걸릴 수 있습니다.\n"
   ]
  },
  {
   "cell_type": "markdown",
   "metadata": {},
   "source": [
    "# Step 2. 카카오톡 로그인하기"
   ]
  },
  {
   "cell_type": "markdown",
   "metadata": {},
   "source": [
    "### Step 2A. 카카오톡 메인 화면 로그인시 아래와 같은 화면을 볼 수 있습니다.\n",
    "<img style=\"float:center\" src=\"images\\kakao_login_main.png\" alt=\"Kakao Main Login\" height=\"220\" width=\"280\" >\n",
    "\n",
    "### 저는 아래 이미지로 패스워드 입력칸을 찾도록 하겠습니다. \n",
    "##### *다른 이미지로 대체하셔도 좋습니다.*\n",
    "<img style=\"float:center\" src=\"images\\login_password.png\" alt=\"Kakao Main Login password\" height=\"220\" width=\"280\" >"
   ]
  },
  {
   "cell_type": "code",
   "execution_count": null,
   "metadata": {},
   "outputs": [],
   "source": [
    "def login_kakao():\n",
    "    button_location = pyautogui.locateOnScreen('images/login_password.png', confidence=0.9)\n",
    "    button_location_2 = pyautogui.locateOnScreen('images/login_login.png', confidence=0.9)\n",
    "    if button_location is None and button_location_2 is None:\n",
    "        print(\"패스워드 버튼 찾기 실패 ㅠㅠ\")\n",
    "        return 'fail'\n",
    "    elif button_location is not None:\n",
    "        button_point = pyautogui.center(button_location)\n",
    "        pyautogui.click(button_point.x, button_point.y)\n",
    "        pyautogui.write('Rain4232') \n",
    "        pyautogui.press('enter')\n",
    "        return 'success'\n",
    "    elif button_location_2 is not None:\n",
    "        button_point = pyautogui.center(button_location_2)\n",
    "#     pyautogui.moveTo(button_point.x, button_point.y, duration=0)\n",
    "#     pyautogui.move(0, -45, 0.5, pyautogui.easeInQuad)  # Move 45 pixels Up\n",
    "        pyautogui.doubleClick(button_point.x, button_point.y-45)\n",
    "        pyautogui.write('Rain4232')\n",
    "        pyautogui.press('enter')\n",
    "        return 'success'\n",
    "        \n",
    "login_result = login_kakao()\n",
    "print(login_result)\n",
    "\n",
    "if login_result == 'success':\n",
    "    pass\n",
    "elif login_result == 'fail':\n",
    "    \n",
    "\n",
    "    counter = 0\n",
    "    while counter <5 and login_result  == 'fail':\n",
    "        counter += 1\n",
    "        print('1분 후 다시 시도합니다')\n",
    "        \n",
    "        time.sleep(60)\n",
    "        print('attempt : ', counter)\n",
    "\n",
    "        login_result = login_kakao()\n",
    "        if login_result == 'success':\n",
    "            print('로그인 성공')\n",
    "#         time.sleep(100)\n",
    "        "
   ]
  },
  {
   "cell_type": "markdown",
   "metadata": {},
   "source": [
    "# Step 3. 친구찾기"
   ]
  },
  {
   "cell_type": "markdown",
   "metadata": {},
   "source": [
    "마우스 커서 이동 좌표는 아래와 같습니다.\n",
    "\n",
    "```\n",
    "0,0       X increases -->\n",
    "+---------------------------+\n",
    "|                           | Y increases\n",
    "|                           |     |\n",
    "|   1920 x 1080 screen      |     |\n",
    "|                           |     V\n",
    "|                           |\n",
    "|                           |\n",
    "+---------------------------+ 1919, 1079\n",
    "```"
   ]
  },
  {
   "cell_type": "code",
   "execution_count": null,
   "metadata": {},
   "outputs": [],
   "source": [
    "def find_fren(fren):\n",
    "    button_location = None\n",
    "    button_location = pyautogui.locateOnScreen('images/search_icon.png', confidence=0.9)\n",
    "    \n",
    "\n",
    "    if button_location is None:  \n",
    "        print(\"서치 버튼 찾기 실패 ㅠㅠ\")\n",
    "    else:\n",
    "        try:\n",
    "            x_location = pyautogui.locateOnScreen('images/x_icon.png', confidence=0.9)\n",
    "            x_point = pyautogui.center(x_location)\n",
    "            pyautogui.click(x_point.x, x_point.y)  # X 아이콘을 눌러서 기존 텍스트를 지워주기\n",
    "#             input('x_done?')\n",
    "        except:\n",
    "            pass\n",
    "        \n",
    "        button_point = pyautogui.center(button_location)\n",
    "        time.sleep(1)\n",
    "        pyautogui.click(button_point.x, button_point.y)\n",
    "#         pyautogui.click(button_point.x, button_point.y)\n",
    "        \n",
    "\n",
    "        pyperclip.copy(fren)\n",
    "        pyautogui.hotkey(\"ctrl\", \"v\")\n",
    "        \n",
    "        time.sleep(1)  # 딜레이 넣기\n",
    "        demo_chat = pyautogui.locateOnScreen('images/demo_chat_2.png', confidence=0.9)\n",
    "        demo_chat_point = pyautogui.center(demo_chat)\n",
    "\n",
    "        if demo_chat is None:  \n",
    "            print(\"데모톡방 찾기 실패 ㅠㅠ\")\n",
    "        else:\n",
    "#             print('demo_chat ', demo_chat)\n",
    "            pyautogui.doubleClick(demo_chat_point.x, demo_chat_point.y+30)\n",
    "        \n",
    "        \n",
    "        \n",
    "# find_fren(fren = \"데모톡방#1\")\n",
    "    "
   ]
  },
  {
   "cell_type": "markdown",
   "metadata": {},
   "source": [
    "# Step 4. 내용 입력"
   ]
  },
  {
   "cell_type": "code",
   "execution_count": null,
   "metadata": {},
   "outputs": [],
   "source": [
    "def send_message_adv(message):\n",
    "    button_location= None\n",
    "    button_location_y = None\n",
    "    button_location_g = None\n",
    "\n",
    "    button_location_y = pyautogui.locateOnScreen('images/send_icon_yellow.png', confidence=0.8)\n",
    "    button_location_g = pyautogui.locateOnScreen('images/send_icon_grey.png', confidence=0.8)\n",
    "\n",
    "# \n",
    "\n",
    "\n",
    "    if button_location_y is None and button_location_g is None:\n",
    "        print(\"보내기 버튼 찾기 실패 ㅠㅠ\")\n",
    "    elif  button_location_y is not None:\n",
    "        button_point = pyautogui.center(button_location_y)\n",
    "        pyautogui.click(button_point.x-50, button_point.y)  # Click 50 additional pixel to the left\n",
    "#         print('yellow')    \n",
    "        for i in range(len(message)):\n",
    "            pyperclip.copy(message[i])\n",
    "            pyautogui.hotkey(\"ctrl\", \"v\")\n",
    "            if i != len(my_lines)-1 :\n",
    "                pyautogui.hotkey(\"shift\", \"enter\")\n",
    "        pyautogui.press('enter')\n",
    "    # 메세지를 보냈으니 이제 대화창을 닫겠습니다.\n",
    "        button_close = pyautogui.locateOnScreen('images/close_chat.png', confidence=0.9)\n",
    "        button_point = pyautogui.center(button_close)\n",
    "        pyautogui.click(button_point.x+20, button_point.y-30)\n",
    "    \n",
    "    elif button_location_g is not None:\n",
    "        button_point = pyautogui.center(button_location_g)\n",
    "        pyautogui.click(button_point.x-50, button_point.y)  # Click 50 additional pixel to the left\n",
    "#         print('grey')\n",
    "        for i in range(len(message)):\n",
    "            pyperclip.copy(message[i])\n",
    "            pyautogui.hotkey(\"ctrl\", \"v\")\n",
    "            if i != len(my_lines)-1:\n",
    "                pyautogui.hotkey(\"shift\", \"enter\")\n",
    "        pyautogui.press('enter')\n",
    "    # 메세지를 보냈으니 이제 대화창을 닫겠습니다.\n",
    "        button_close = pyautogui.locateOnScreen('images/close_chat.png', confidence=0.9)\n",
    "        button_point = pyautogui.center(button_close)\n",
    "        pyautogui.click(button_point.x+20, button_point.y-30)\n",
    "\n",
    "\n",
    "# send_message_adv(message=my_lines)"
   ]
  },
  {
   "cell_type": "markdown",
   "metadata": {},
   "source": [
    "# 자 이제 모든 준비는 끝났습니다!!"
   ]
  },
  {
   "cell_type": "code",
   "execution_count": 126,
   "metadata": {},
   "outputs": [
    {
     "name": "stdout",
     "output_type": "stream",
     "text": [
      "sending message to  데모톡방#1\n",
      "sending message to  데모톡방#2\n",
      "sending message to  데모톡방#3\n",
      "sending message to  데모톡방#4\n",
      "끄으으으으으으으으으으으으으으으으으으으읏\n"
     ]
    }
   ],
   "source": [
    "def auto_send(target, message):\n",
    "    for i in target:\n",
    "#         input('')\n",
    "        print('sending message to ', i)\n",
    "        find_fren(i)\n",
    "        time.sleep(0.5)\n",
    "        send_message_adv(message)\n",
    "#         input('testttttttttttttt')\n",
    "    print(\"끄으으으으으으으으으으으으으으으으으으으읏\")\n",
    "    \n",
    "send_to = ['데모톡방#1', '데모톡방#2', '데모톡방#3', '데모톡방#4']\n",
    "my_lines = ['안녕하세요', '자동 메일입니다', '(smile)', '(wink)']\n",
    "\n",
    "\n",
    "auto_send(target=send_to, message = my_lines)"
   ]
  },
  {
   "cell_type": "markdown",
   "metadata": {},
   "source": [
    "<img style=\"float:center\" src=\"images\\ryan_rolling.gif\" alt=\"Ryan rolling\">\n"
   ]
  },
  {
   "cell_type": "markdown",
   "metadata": {},
   "source": [
    "https://pyautogui.readthedocs.io/en/latest/screenshot.html"
   ]
  }
 ],
 "metadata": {
  "kernelspec": {
   "display_name": "Python 3",
   "language": "python",
   "name": "python3"
  },
  "language_info": {
   "codemirror_mode": {
    "name": "ipython",
    "version": 3
   },
   "file_extension": ".py",
   "mimetype": "text/x-python",
   "name": "python",
   "nbconvert_exporter": "python",
   "pygments_lexer": "ipython3",
   "version": "3.8.5"
  }
 },
 "nbformat": 4,
 "nbformat_minor": 4
}
