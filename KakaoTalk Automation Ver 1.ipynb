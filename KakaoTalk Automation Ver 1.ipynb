{
 "cells": [
  {
   "cell_type": "markdown",
   "metadata": {},
   "source": [
    "<img style=\"float:center\" src=\"images\\KakaoTalk-team.jpg\" alt=\"Kakao Team Logo\" height=\"120\" width=\"450\" >\n",
    "\n",
    "\n",
    "\n",
    "# <center> 파이썬으로 카카오톡 PC 자동화하기 </center>\n",
    "***"
   ]
  },
  {
   "cell_type": "code",
   "execution_count": null,
   "metadata": {},
   "outputs": [],
   "source": [
    "import cv2 as cv\n",
    "from difflib import get_close_matches  # 현재는 사용치 않았지만 비스무리한 단어를 찾는데 굉장히 유용합니다. \n",
    "import subprocess \n",
    "import os\n",
    "import time\n",
    "import pyautogui  \n",
    "import pyperclip \n",
    "import datetime\n"
   ]
  },
  {
   "cell_type": "markdown",
   "metadata": {},
   "source": [
    "# Step 1. 카카오톡을 실행하기\n",
    "\n",
    "```python\n",
    "def open_kakao() 는 카카오톡을 실행시키는 function 이며\n",
    "def kill_kakao() 는 카카오톡을 강제 종료시키는 function 입니다.\n",
    "```"
   ]
  },
  {
   "cell_type": "code",
   "execution_count": null,
   "metadata": {},
   "outputs": [],
   "source": [
    "def open_kakao():\n",
    "    try:\n",
    "        path = r\"C:\\Program Files (x86)\\Kakao\\KakaoTalk\\KakaoTalk.exe\"\n",
    "        subprocess.Popen(path)\n",
    "    except:\n",
    "        print(\"cannot open KakaoTalk\")\n",
    "\n",
    "def kill_kakao():\n",
    "    os.system(\"TASKKILL /F /IM KakaoTalk.exe\")  # this will kill KakaoTalk\n",
    "    \n",
    "def login_kakao():\n",
    "    button_location = pyautogui.locateOnScreen('images/login_password.png', confidence=0.9)\n",
    "    button_location_2 = pyautogui.locateOnScreen('images/login_login.png', confidence=0.9)\n",
    "    if button_location is None and button_location_2 is None:\n",
    "        print(\"패스워드 버튼 찾기 실패 ㅠㅠ\")\n",
    "    elif button_location is not None:\n",
    "        button_point = pyautogui.center(button_location)\n",
    "        pyautogui.click(button_point.x, button_point.y)\n",
    "        pyautogui.write('Password1234') \n",
    "        pyautogui.press('enter')\n",
    "    elif button_location_2 is not None:\n",
    "        button_point = pyautogui.center(button_location_2)\n",
    "#     pyautogui.moveTo(button_point.x, button_point.y, duration=0)\n",
    "#     pyautogui.move(0, -45, 0.5, pyautogui.easeInQuad)  # Move 45 pixels Up\n",
    "        pyautogui.doubleClick(button_point.x, button_point.y-45)\n",
    "        pyautogui.write('Password1234')\n",
    "        pyautogui.press('enter')\n",
    "    \n",
    "    "
   ]
  },
  {
   "cell_type": "code",
   "execution_count": null,
   "metadata": {},
   "outputs": [],
   "source": [
    "kill_kakao()\n",
    "\n",
    "\n",
    "print('test')"
   ]
  },
  {
   "cell_type": "code",
   "execution_count": null,
   "metadata": {},
   "outputs": [],
   "source": [
    "open_kakao()  # 약간 시간이 걸릴 수 있습니다.\n"
   ]
  },
  {
   "cell_type": "markdown",
   "metadata": {},
   "source": [
    "# Step 2. 카카오톡 로그인하기"
   ]
  },
  {
   "cell_type": "markdown",
   "metadata": {},
   "source": [
    "### Step 2A. 카카오톡 메인 화면 로그인시 아래와 같은 화면을 볼 수 있습니다.\n",
    "<img style=\"float:center\" src=\"images\\kakao_login_main.png\" alt=\"Kakao Main Login\" height=\"220\" width=\"280\" >\n",
    "\n",
    "### 저는 아래 이미지로 패스워드 입력칸을 찾도록 하겠습니다. \n",
    "##### *다른 이미지로 대체하셔도 좋습니다.*\n",
    "<img style=\"float:center\" src=\"images\\login_password.png\" alt=\"Kakao Main Login password\" height=\"220\" width=\"280\" >"
   ]
  },
  {
   "cell_type": "code",
   "execution_count": null,
   "metadata": {},
   "outputs": [],
   "source": [
    "def login_kakao():\n",
    "    button_location = pyautogui.locateOnScreen('images/login_password.png', confidence=0.9)\n",
    "    button_location_2 = pyautogui.locateOnScreen('images/login_login.png', confidence=0.9)\n",
    "    if button_location is None and button_location_2 is None:\n",
    "        print(\"패스워드 버튼 찾기 실패 ㅠㅠ\")\n",
    "    elif button_location is not None:\n",
    "        button_point = pyautogui.center(button_location)\n",
    "        pyautogui.click(button_point.x, button_point.y)\n",
    "        pyautogui.write('Password1234') \n",
    "        pyautogui.press('enter')\n",
    "    elif button_location_2 is not None:\n",
    "        button_point = pyautogui.center(button_location_2)\n",
    "#     pyautogui.moveTo(button_point.x, button_point.y, duration=0)\n",
    "#     pyautogui.move(0, -45, 0.5, pyautogui.easeInQuad)  # Move 45 pixels Up\n",
    "        pyautogui.doubleClick(button_point.x, button_point.y-45)\n",
    "        pyautogui.write('Password1234')\n",
    "        pyautogui.press('enter')\n",
    "        \n",
    "login_kakao()\n",
    "    \n",
    "    "
   ]
  },
  {
   "cell_type": "markdown",
   "metadata": {},
   "source": [
    "# Step 3. 친구찾기"
   ]
  },
  {
   "cell_type": "markdown",
   "metadata": {},
   "source": [
    "마우스 커서 이동 좌표는 아래와 같습니다.\n",
    "\n",
    "```\n",
    "0,0       X increases -->\n",
    "+---------------------------+\n",
    "|                           | Y increases\n",
    "|                           |     |\n",
    "|   1920 x 1080 screen      |     |\n",
    "|                           |     V\n",
    "|                           |\n",
    "|                           |\n",
    "+---------------------------+ 1919, 1079\n",
    "```"
   ]
  },
  {
   "cell_type": "code",
   "execution_count": null,
   "metadata": {},
   "outputs": [],
   "source": [
    "def find_fren(fren):\n",
    "    button_location = None\n",
    "    button_location = pyautogui.locateOnScreen('images/search_icon.png', confidence=0.9)\n",
    "\n",
    "\n",
    "    if button_location is None:  \n",
    "        print(\"서치 버튼 찾기 실패 ㅠㅠ\")\n",
    "    else:\n",
    "        try: \n",
    "            pyautogui.click('images/x_icon.png')  # X 아이콘을 눌러서 기존 텍스트를 지워주기\n",
    "        except:\n",
    "            pass\n",
    "        button_point = pyautogui.center(button_location)\n",
    "        pyautogui.click(button_point.x+50, button_point.y)  # Click 50 additional pixel to the right\n",
    "#     pyautogui.write(\"2020년 소그룹\") 은 유니코드여서 입력이 안됩니다.\n",
    "        pyperclip.copy(fren)\n",
    "        pyautogui.hotkey(\"ctrl\", \"v\")\n",
    "        time.sleep(0.7)  # 딜레이 넣기\n",
    "        pyautogui.move(0, 80, 0.1, pyautogui.easeInQuad)  # Move 80 pixel down\n",
    "        pyautogui.doubleClick()\n",
    "        \n",
    "find_fren(fren = \"파이썬 테스트쳇방1\")\n",
    "    "
   ]
  },
  {
   "cell_type": "markdown",
   "metadata": {},
   "source": [
    "# Step 4. 내용 입력"
   ]
  },
  {
   "cell_type": "code",
   "execution_count": null,
   "metadata": {},
   "outputs": [],
   "source": [
    "def send_message(message):\n",
    "    button_location= None\n",
    "    button_location_y = None\n",
    "    button_location_g = None\n",
    "\n",
    "    button_location_y = pyautogui.locateOnScreen('images/send_icon_yellow.png', confidence=0.9)\n",
    "    button_location_g = pyautogui.locateOnScreen('images/send_icon_grey.png', confidence=0.9)\n",
    "\n",
    "\n",
    "\n",
    "\n",
    "\n",
    "    if button_location_y is None and button_location_g is None:\n",
    "        print(\"보내기 버튼 찾기 실패 ㅠㅠ\")\n",
    "    elif  button_location_y is not None:\n",
    "        button_point = pyautogui.center(button_location_y)\n",
    "        pyautogui.click(button_point.x-50, button_point.y)  # Click 50 additional pixel to the right\n",
    "        print('yellow')    \n",
    "        pyperclip.copy(message)\n",
    "        pyautogui.hotkey(\"ctrl\", \"v\")\n",
    "        pyautogui.press('enter')\n",
    "    \n",
    "    elif button_location_g is not None:\n",
    "        button_point = pyautogui.center(button_location_g)\n",
    "        pyautogui.click(button_point.x-50, button_point.y)  # Click 50 additional pixel to the right\n",
    "        print('grey')\n",
    "#     pyautogui.write(\"2020년 소그룹\") 은 유니코드여서 입력이 안됩니다.\n",
    "        pyperclip.copy(message)\n",
    "        pyautogui.hotkey(\"ctrl\", \"v\")\n",
    "        pyautogui.press('enter')\n",
    "    \n",
    "send_message(message=\"안뇽\")\n",
    "    "
   ]
  },
  {
   "cell_type": "markdown",
   "metadata": {},
   "source": [
    "# Step 4B. 내용 입력 심화 (optional)\n",
    "### 아래 내용은 저의 실제 적용 사례를 기반으로 처음부터 다시 설명해드리고자 합니다.\n",
    "### 저는 매일 특정 URL 링크를 날짜만 변경해서 밤 11시에서 새벽 1시 사이에 보내는데요.\n",
    "### 파이썬으로 현재 시간에서 가장 가까운 날짜를 읽고 내용을 업데이트 하는 과정을 보여드리겠습니다.\n",
    "\n",
    "\n",
    "\n",
    "\n",
    "<font color='purple'> 4월 22일 수요일 큐티 성경 본문 </font>\n",
    "\n",
    "https://sum.su.or.kr:8888/bible/today\n",
    "\n",
    "<font color='purple'> 큐티 오디오 링크 </font>\n",
    "\n",
    "\n",
    "http://meditation.su.or.kr/meditation_mp3/2020/20200422.mp3"
   ]
  },
  {
   "cell_type": "code",
   "execution_count": null,
   "metadata": {},
   "outputs": [],
   "source": [
    "kill_kakao()  # 모든 카카오 프로세스를 종료시킵니다."
   ]
  },
  {
   "cell_type": "code",
   "execution_count": null,
   "metadata": {},
   "outputs": [],
   "source": [
    "open_kakao()  # 카카오 PC를 엽니다."
   ]
  },
  {
   "cell_type": "code",
   "execution_count": null,
   "metadata": {},
   "outputs": [],
   "source": [
    "login_kakao()  # 로그인 합니다."
   ]
  },
  {
   "cell_type": "markdown",
   "metadata": {},
   "source": [
    "### 보낼 카톡방 리스트를 작성합니다."
   ]
  },
  {
   "cell_type": "code",
   "execution_count": null,
   "metadata": {},
   "outputs": [],
   "source": [
    "send_to = ['파이썬 테스트쳇방1', '파이썬 테스트쳇방2', '파이썬 테스트쳇방3']"
   ]
  },
  {
   "cell_type": "markdown",
   "metadata": {},
   "source": [
    "### 모두에게 공통적으로 보낼 메세지를 만듭니다."
   ]
  },
  {
   "cell_type": "code",
   "execution_count": null,
   "metadata": {},
   "outputs": [],
   "source": [
    "\n",
    "def korean(day_english):\n",
    "    korean_weekday = ['일', '월', '화', '수', '목', '금', '토']\n",
    "    return korean_weekday[int(day_english)]\n",
    "\n",
    "\n",
    "def QT_generator(): \n",
    "    currentDT = datetime.datetime.now()\n",
    "    HOUR = currentDT.strftime(\"%H\")  # hh\n",
    "    if HOUR > \"22\":  # Beyond 10 pm\n",
    "        currentDT = currentDT + datetime.timedelta(days=1)  # 열 시 이후에는 다음 날짜를 선택합니다.\n",
    "    YEAR = currentDT.strftime(\"%Y\")  # YYYY           \n",
    "    MONTH =   currentDT.strftime(\"%m\")  # MM           \n",
    "    DAY =   currentDT.strftime(\"%d\")  # DD      \n",
    "    weekday_en= currentDT.strftime(\"%w\") # Weekday as a number 0-6, 0 is Sunday\n",
    "    WEEKDAY = korean(weekday_en)\n",
    "    \n",
    "    line_1 = \"{mm}월 {dd}일 {wk_day}요일 큐티 성경 본문\".format(mm=MONTH, dd=DAY, wk_day=WEEKDAY)\n",
    "    line_2 = \"https://sum.su.or.kr:8888/bible/today\"\n",
    "    line_3 = \"큐티 오디오 링크\"\n",
    "    line_4 = \"http://meditation.su.or.kr/meditation_mp3/{yyyy}/{yyyy}{mm}{dd}.mp3\".format(yyyy=YEAR, mm=MONTH, dd=DAY)\n",
    "    \n",
    "    \n",
    "    return [line_1, line_2, line_3, line_4]\n",
    "    \n",
    "my_lines = QT_generator()   # 이것이 제가 모두에게 공통적으로 보낼 메세지 입니다.\n",
    "print(my_lines)"
   ]
  },
  {
   "cell_type": "markdown",
   "metadata": {},
   "source": [
    "# send_message function 을 조금 더 업그레이드 하도록 하겠습니다."
   ]
  },
  {
   "cell_type": "code",
   "execution_count": null,
   "metadata": {},
   "outputs": [],
   "source": [
    "def send_message_adv(message):\n",
    "    button_location= None\n",
    "    button_location_y = None\n",
    "    button_location_g = None\n",
    "\n",
    "    button_location_y = pyautogui.locateOnScreen('images/send_icon_yellow.png', confidence=0.8)\n",
    "    button_location_g = pyautogui.locateOnScreen('images/send_icon_grey.png', confidence=0.8)\n",
    "\n",
    "# \n",
    "\n",
    "\n",
    "    if button_location_y is None and button_location_g is None:\n",
    "        print(\"보내기 버튼 찾기 실패 ㅠㅠ\")\n",
    "    elif  button_location_y is not None:\n",
    "        button_point = pyautogui.center(button_location_y)\n",
    "        pyautogui.click(button_point.x-50, button_point.y)  # Click 50 additional pixel to the right\n",
    "#         print('yellow')    \n",
    "        for i in range(len(message)):\n",
    "            pyperclip.copy(message[i])\n",
    "            pyautogui.hotkey(\"ctrl\", \"v\")\n",
    "            if i != 3:\n",
    "                pyautogui.hotkey(\"shift\", \"enter\")\n",
    "        pyautogui.hotkey(\"ctrl\", \"v\")\n",
    "        pyautogui.press('enter')\n",
    "    # 메세지를 보냈으니 이제 대화창을 닫겠습니다.\n",
    "        button_close = pyautogui.locateOnScreen('images/close_chat.png', confidence=0.9)\n",
    "        button_point = pyautogui.center(button_close)\n",
    "        pyautogui.click(button_point.x+20, button_point.y-30)\n",
    "    \n",
    "    elif button_location_g is not None:\n",
    "        button_point = pyautogui.center(button_location_g)\n",
    "        pyautogui.click(button_point.x-50, button_point.y)  # Click 50 additional pixel to the right\n",
    "#         print('grey')\n",
    "        for i in range(len(message)):\n",
    "            pyperclip.copy(message[i])\n",
    "            pyautogui.hotkey(\"ctrl\", \"v\")\n",
    "            if i != 3:\n",
    "                pyautogui.hotkey(\"shift\", \"enter\")\n",
    "        pyautogui.press('enter')\n",
    "    # 메세지를 보냈으니 이제 대화창을 닫겠습니다.\n",
    "        button_close = pyautogui.locateOnScreen('images/close_chat.png', confidence=0.9)\n",
    "        button_point = pyautogui.center(button_close)\n",
    "        pyautogui.click(button_point.x+20, button_point.y-30)\n",
    "\n",
    "    \n",
    "# send_message_adv(message=my_lines)"
   ]
  },
  {
   "cell_type": "markdown",
   "metadata": {},
   "source": [
    "# 자 이제 모든 준비는 끝났습니다!!"
   ]
  },
  {
   "cell_type": "code",
   "execution_count": 25,
   "metadata": {},
   "outputs": [
    {
     "name": "stdout",
     "output_type": "stream",
     "text": [
      "파이썬 테스트쳇방1\n",
      "파이썬 테스트쳇방2\n",
      "파이썬 테스트쳇방3\n",
      "끄으으으으으으으으으으으으으으으으으으으읏\n"
     ]
    }
   ],
   "source": [
    "def auto_send(target, message):\n",
    "    for i in target:\n",
    "        print(i)\n",
    "        find_fren(i)\n",
    "        send_message_adv(message)\n",
    "    print(\"끄으으으으으으으으으으으으으으으으으으으읏\")\n",
    "    \n",
    "send_to = ['파이썬 테스트쳇방1', '파이썬 테스트쳇방2', '파이썬 테스트쳇방3']\n",
    "my_lines = QT_generator()\n",
    "\n",
    "\n",
    "auto_send(target=send_to, message = my_lines)"
   ]
  },
  {
   "cell_type": "markdown",
   "metadata": {},
   "source": [
    "<img style=\"float:center\" src=\"images\\ryan_rolling.gif\" alt=\"Ryan rolling\">\n"
   ]
  },
  {
   "cell_type": "code",
   "execution_count": null,
   "metadata": {},
   "outputs": [],
   "source": []
  },
  {
   "cell_type": "code",
   "execution_count": null,
   "metadata": {},
   "outputs": [],
   "source": []
  },
  {
   "cell_type": "markdown",
   "metadata": {},
   "source": [
    "https://pyautogui.readthedocs.io/en/latest/screenshot.html"
   ]
  }
 ],
 "metadata": {
  "kernelspec": {
   "display_name": "Python 3",
   "language": "python",
   "name": "python3"
  },
  "language_info": {
   "codemirror_mode": {
    "name": "ipython",
    "version": 3
   },
   "file_extension": ".py",
   "mimetype": "text/x-python",
   "name": "python",
   "nbconvert_exporter": "python",
   "pygments_lexer": "ipython3",
   "version": "3.7.6"
  }
 },
 "nbformat": 4,
 "nbformat_minor": 4
}
